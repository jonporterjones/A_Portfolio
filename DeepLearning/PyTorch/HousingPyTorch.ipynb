{
 "cells": [
  {
   "cell_type": "markdown",
   "metadata": {},
   "source": [
    "# Summary\n",
    "\n",
    "This notebook will train a DL model using PyTorch.  \n",
    "\n",
    "The dataset is the same example as before, the california housing dataset from sklearn."
   ]
  },
  {
   "cell_type": "code",
   "execution_count": 1,
   "metadata": {},
   "outputs": [],
   "source": [
    "# imports\n",
    "import numpy as np\n",
    "from sklearn.datasets import fetch_california_housing\n",
    "from sklearn.metrics import r2_score\n",
    "from sklearn.model_selection import train_test_split\n",
    "import torch\n",
    "from torch import nn\n",
    "from torch.utils.data import Dataset\n",
    "from torch.utils.data import DataLoader\n",
    "from typing import Tuple"
   ]
  },
  {
   "cell_type": "markdown",
   "metadata": {},
   "source": [
    "# Dataset and Dataloader\n",
    "\n",
    "PyTorch provides Dataset and DataLoader.  These classes help to decouple the dataset from the model training code.  \n",
    "\n",
    "Create a Dataset and DataLoader using the published interface so that we can cleanly supply the california housing data to a pytorch model.  \n",
    "\n",
    "Create a train/test set as before and corresponding PyTorch Datasets."
   ]
  },
  {
   "cell_type": "code",
   "execution_count": 2,
   "metadata": {},
   "outputs": [],
   "source": [
    "housing = fetch_california_housing()"
   ]
  },
  {
   "cell_type": "code",
   "execution_count": 3,
   "metadata": {},
   "outputs": [],
   "source": [
    "x_train, x_test, y_train, y_test = train_test_split(housing.data,\n",
    "                                                    housing.target,\n",
    "                                                    test_size=0.1,\n",
    "                                                    random_state=66)"
   ]
  },
  {
   "cell_type": "code",
   "execution_count": 4,
   "metadata": {},
   "outputs": [],
   "source": [
    "# reshape y values to add a column dimension\n",
    "y_train = y_train.reshape(-1,1)\n",
    "y_test = y_test.reshape(-1,1)"
   ]
  },
  {
   "cell_type": "markdown",
   "metadata": {},
   "source": []
  },
  {
   "cell_type": "markdown",
   "metadata": {},
   "source": [
    "Standardizing the train and test data is essential and helps the model converge faster and find a lower mimimum for the loss.  It is a common misconception that neural networks do not need standardized numeric data, or at least do not benefit as much as a statistical model.  "
   ]
  },
  {
   "cell_type": "code",
   "execution_count": 5,
   "metadata": {},
   "outputs": [],
   "source": [
    "# standardize x values to assist in convergence\n",
    "# Compute mean and standard deviation\n",
    "mean = np.mean(x_train, axis=0)\n",
    "std = np.std(x_train, axis=0)\n",
    "\n",
    "# Perform standardization\n",
    "# When standardizing the test set it is important to use the training set mean/std  \n",
    "#  otherwise information about your test data will bleed into your evaluation.\n",
    "x_train = (x_train - mean) / std\n",
    "x_test = (x_test - mean) / std"
   ]
  },
  {
   "cell_type": "markdown",
   "metadata": {},
   "source": [
    "To create a custom Dataset class, implement the interface provided by torch.utils.data.Dataset.  This includes functions __init__, __len__, __getitem__"
   ]
  },
  {
   "cell_type": "code",
   "execution_count": 6,
   "metadata": {},
   "outputs": [],
   "source": [
    "class CaliforniaHousingDataset(Dataset):\n",
    "\n",
    "    def __init__(self, x, y):\n",
    "        self.x = torch.tensor(data=x,\n",
    "                              dtype=torch.float32)\n",
    "        self.y = torch.tensor(data=y,\n",
    "                              dtype=torch.float32)\n",
    "\n",
    "    def __len__(self) -> int:\n",
    "        return len(self.x)\n",
    "    \n",
    "    def __getitem__(self, index: int) -> Tuple[torch.Tensor, torch.Tensor]:\n",
    "        return self.x[index], self.y[index]\n"
   ]
  },
  {
   "cell_type": "markdown",
   "metadata": {},
   "source": [
    "Create instances of the CaliforniaHousingDataset class.  \n",
    "One for training data and one for test data."
   ]
  },
  {
   "cell_type": "code",
   "execution_count": 7,
   "metadata": {},
   "outputs": [],
   "source": [
    "train_data = CaliforniaHousingDataset(x=x_train, y=y_train)\n",
    "test_data = CaliforniaHousingDataset(x=x_test, y=y_test)"
   ]
  },
  {
   "cell_type": "code",
   "execution_count": 8,
   "metadata": {},
   "outputs": [
    {
     "name": "stdout",
     "output_type": "stream",
     "text": [
      "Train: 18576\n",
      "Test: 2064\n"
     ]
    }
   ],
   "source": [
    "print(f'Train: {len(train_data)}')\n",
    "print(f'Test: {len(test_data)}')"
   ]
  },
  {
   "cell_type": "markdown",
   "metadata": {},
   "source": [
    "The DataLoader class is used to build training batches and optionally shuffle the data at each epoch.  \n",
    "Use a large batch size for this trivial problem."
   ]
  },
  {
   "cell_type": "code",
   "execution_count": 9,
   "metadata": {},
   "outputs": [],
   "source": [
    "train_dataloader = DataLoader(train_data, batch_size=256, shuffle=True)"
   ]
  },
  {
   "cell_type": "markdown",
   "metadata": {},
   "source": [
    "# Model\n",
    "\n",
    "The neural network model is class defined as a subclass of torch.nn.Module.  \n",
    "The __init__ function is used to define the network, input and output shapes, hidden layers, and the final layer.\n",
    "The node of a hidden layer in a neural network is a linear function, followed by a non-linear activation function.  The network definition below includes each linear function and each activation function.\n",
    "\n",
    "The code below will create a simple network with 2 hidden layers.  The inputs initially have 8 dimensions, the first hidden layer will expand this to 32 nodes, the 2nd hidden layer will collapse down to 4 nodes.  The final layer will output a single value representing the prediction y value MedHouseVal.\n",
    "\n",
    "This is probably a more complex network than is needed for this dataset, used to demonstrate the use of hidden layers."
   ]
  },
  {
   "cell_type": "code",
   "execution_count": 10,
   "metadata": {},
   "outputs": [],
   "source": [
    "class HousingNeuralNetwork(nn.Module):\n",
    "    def __init__(self):\n",
    "        super().__init__()\n",
    "        self.model_output = nn.Sequential(\n",
    "            nn.Linear(8, 32),\n",
    "            nn.ReLU(),\n",
    "            nn.Linear(32, 4),\n",
    "            nn.ReLU(),\n",
    "            nn.Linear(4, 1),\n",
    "        )\n",
    "\n",
    "    def forward(self, x):\n",
    "        return self.model_output(x)"
   ]
  },
  {
   "cell_type": "markdown",
   "metadata": {},
   "source": [
    "Create an instance of HousingNeuralNetwork and print its structure."
   ]
  },
  {
   "cell_type": "code",
   "execution_count": 11,
   "metadata": {},
   "outputs": [
    {
     "name": "stdout",
     "output_type": "stream",
     "text": [
      "HousingNeuralNetwork(\n",
      "  (model_output): Sequential(\n",
      "    (0): Linear(in_features=8, out_features=32, bias=True)\n",
      "    (1): ReLU()\n",
      "    (2): Linear(in_features=32, out_features=4, bias=True)\n",
      "    (3): ReLU()\n",
      "    (4): Linear(in_features=4, out_features=1, bias=True)\n",
      "  )\n",
      ")\n"
     ]
    }
   ],
   "source": [
    "model = HousingNeuralNetwork().to(\"cpu\")\n",
    "print(model)"
   ]
  },
  {
   "cell_type": "markdown",
   "metadata": {},
   "source": [
    "# Optimization\n",
    "\n",
    "A neural network needs a loss function and an optimizer in order to be trained.\n",
    "\n",
    "The loss function is the value the neural network will work to minimize during training.  The optimizer represents the method used to learn optimal values of the trainable parameters.\n",
    "\n",
    "The Housing dataset will use MSELoss (mean squared error) and the optimizer is SGD (stochastic gradient descent).  These choices are consistent with the Neural Network From Scratch."
   ]
  },
  {
   "cell_type": "code",
   "execution_count": 12,
   "metadata": {},
   "outputs": [],
   "source": [
    "loss_fn = nn.MSELoss()\n",
    "optimizer = torch.optim.SGD(model.parameters(), lr=1e-2)"
   ]
  },
  {
   "cell_type": "markdown",
   "metadata": {},
   "source": [
    "# Train\n",
    "\n",
    "Training requires iterations over the batches of data made available via the DataLoader.  \n",
    "Each pass over the entire dataset is considered an epoch, the training loop will usually be run for multiple epochs.  \n",
    "\n",
    "Typically the loss values are logged within the mini-batches.  This can be a little deceiving for 2 reasons:  \n",
    "1.  The loss within a mini-batch will often oscilate due to variations in the training data.  This can be a little misleading, what matters if the loss if viewed in this manner is that it trends down.\n",
    "2.  What matters is that the loss is decreasing epoch over epoch.  So long as the loss continues to decrease epoch to epoch training should continue (at the risk of overfitting).  A common practice is to stop training once the loss stops decreasing by a certain threshold (early stopping).\n",
    "   \n",
    "The example below trains for a large number of epochs (256).  The training loss continues to decrease and does not begin to become unstable until about epoch 180.  This instability is expected as the optimizer has found the minima for the loss function and subsequent attempts to learn cause the loss to oscilate around this minima.  \n"
   ]
  },
  {
   "cell_type": "code",
   "execution_count": 13,
   "metadata": {},
   "outputs": [],
   "source": [
    "def train_loop(dataloader, model, loss_fn, optimizer):\n",
    "    model.train() # Puts model into train mode.\n",
    "    epoch_loss = 0.0\n",
    "    for batch, (X, y) in enumerate(dataloader):\n",
    "        X, y = X.to(\"cpu\"), y.to(\"cpu\")\n",
    "\n",
    "        optimizer.zero_grad()   # 0 out gradents for next computation.\n",
    "\n",
    "        # forward propagation\n",
    "        pred = model(X)         # Get predicted values for inputs\n",
    "        loss = loss_fn(pred, y) # Compute loss\n",
    "\n",
    "        # Backpropagation\n",
    "        loss.backward()         # Compute gradients\n",
    "        optimizer.step()        # Update trainable parameters.\n",
    "\n",
    "        # print/track loss\n",
    "        epoch_loss += loss.item()\n",
    "\n",
    "    return epoch_loss"
   ]
  },
  {
   "cell_type": "code",
   "execution_count": 14,
   "metadata": {},
   "outputs": [
    {
     "name": "stdout",
     "output_type": "stream",
     "text": [
      "Epoch 1 loss: 130.59871238470078\n",
      "Epoch 2 loss: 60.54444885253906\n",
      "Epoch 3 loss: 51.07842779159546\n",
      "Epoch 4 loss: 47.814879179000854\n",
      "Epoch 5 loss: 45.5601641535759\n",
      "Epoch 6 loss: 43.62619835138321\n",
      "Epoch 7 loss: 41.85950309038162\n",
      "Epoch 8 loss: 40.26475903391838\n",
      "Epoch 9 loss: 38.65514063835144\n",
      "Epoch 10 loss: 37.1774580180645\n",
      "Epoch 11 loss: 35.87482288479805\n",
      "Epoch 12 loss: 34.72008156776428\n",
      "Epoch 13 loss: 33.6549214720726\n",
      "Epoch 14 loss: 32.65789410471916\n",
      "Epoch 15 loss: 31.978035241365433\n",
      "Epoch 16 loss: 31.32862663269043\n",
      "Epoch 17 loss: 30.92395830154419\n",
      "Epoch 18 loss: 30.562648057937622\n",
      "Epoch 19 loss: 30.229025542736053\n",
      "Epoch 20 loss: 29.957667380571365\n",
      "Epoch 21 loss: 29.70040661096573\n",
      "Epoch 22 loss: 29.447811484336853\n",
      "Epoch 23 loss: 29.212144523859024\n",
      "Epoch 24 loss: 29.13114669919014\n",
      "Epoch 25 loss: 28.900121957063675\n",
      "Epoch 26 loss: 28.77874591946602\n",
      "Epoch 27 loss: 28.54921844601631\n",
      "Epoch 28 loss: 28.51083305478096\n",
      "Epoch 29 loss: 28.34859025478363\n",
      "Epoch 30 loss: 28.246335357427597\n",
      "Epoch 31 loss: 28.046965718269348\n",
      "Epoch 32 loss: 27.96918722987175\n",
      "Epoch 33 loss: 27.93069487810135\n",
      "Epoch 34 loss: 27.733319997787476\n",
      "Epoch 35 loss: 27.667519062757492\n",
      "Epoch 36 loss: 27.569222003221512\n",
      "Epoch 37 loss: 27.47030907869339\n",
      "Epoch 38 loss: 27.483429819345474\n",
      "Epoch 39 loss: 27.424667328596115\n",
      "Epoch 40 loss: 27.290871322155\n",
      "Epoch 41 loss: 27.273419678211212\n",
      "Epoch 42 loss: 27.1208393573761\n",
      "Epoch 43 loss: 27.083198696374893\n",
      "Epoch 44 loss: 27.001530289649963\n",
      "Epoch 45 loss: 26.910401463508606\n",
      "Epoch 46 loss: 26.822833240032196\n",
      "Epoch 47 loss: 26.87310379743576\n",
      "Epoch 48 loss: 26.710392832756042\n",
      "Epoch 49 loss: 26.678148806095123\n",
      "Epoch 50 loss: 26.66948264837265\n",
      "Epoch 51 loss: 26.622925579547882\n",
      "Epoch 52 loss: 26.521779239177704\n",
      "Epoch 53 loss: 26.451131895184517\n",
      "Epoch 54 loss: 26.566666454076767\n",
      "Epoch 55 loss: 26.372756838798523\n",
      "Epoch 56 loss: 26.34758870303631\n",
      "Epoch 57 loss: 26.266817703843117\n",
      "Epoch 58 loss: 26.250490456819534\n",
      "Epoch 59 loss: 26.27390892803669\n",
      "Epoch 60 loss: 26.10760125517845\n",
      "Epoch 61 loss: 26.133679538965225\n",
      "Epoch 62 loss: 25.98240539431572\n",
      "Epoch 63 loss: 25.976444333791733\n",
      "Epoch 64 loss: 25.909419253468513\n",
      "Epoch 65 loss: 25.93951979279518\n",
      "Epoch 66 loss: 25.865796506404877\n",
      "Epoch 67 loss: 25.768486380577087\n",
      "Epoch 68 loss: 25.73131474852562\n",
      "Epoch 69 loss: 25.72793138027191\n",
      "Epoch 70 loss: 25.646317526698112\n",
      "Epoch 71 loss: 25.64294709265232\n",
      "Epoch 72 loss: 25.541929960250854\n",
      "Epoch 73 loss: 25.543196842074394\n",
      "Epoch 74 loss: 25.449459090828896\n",
      "Epoch 75 loss: 25.410470455884933\n",
      "Epoch 76 loss: 25.383711948990822\n",
      "Epoch 77 loss: 25.347746193408966\n",
      "Epoch 78 loss: 25.29278126358986\n",
      "Epoch 79 loss: 25.18660494685173\n",
      "Epoch 80 loss: 25.206921726465225\n",
      "Epoch 81 loss: 25.113137632608414\n",
      "Epoch 82 loss: 25.09378883242607\n",
      "Epoch 83 loss: 25.020763769745827\n",
      "Epoch 84 loss: 24.995533123612404\n",
      "Epoch 85 loss: 25.035748213529587\n",
      "Epoch 86 loss: 24.917357206344604\n",
      "Epoch 87 loss: 24.830388769507408\n",
      "Epoch 88 loss: 24.86366406083107\n",
      "Epoch 89 loss: 24.895417034626007\n",
      "Epoch 90 loss: 24.818113148212433\n",
      "Epoch 91 loss: 24.71329975128174\n",
      "Epoch 92 loss: 24.622984677553177\n",
      "Epoch 93 loss: 24.639409884810448\n",
      "Epoch 94 loss: 24.574285000562668\n",
      "Epoch 95 loss: 24.514975875616074\n",
      "Epoch 96 loss: 24.456205561757088\n",
      "Epoch 97 loss: 24.387947633862495\n",
      "Epoch 98 loss: 24.387296482920647\n",
      "Epoch 99 loss: 24.30971297621727\n",
      "Epoch 100 loss: 24.27593894302845\n",
      "Epoch 101 loss: 24.26587802171707\n",
      "Epoch 102 loss: 24.194685086607933\n",
      "Epoch 103 loss: 24.132214039564133\n",
      "Epoch 104 loss: 24.134027555584908\n",
      "Epoch 105 loss: 24.055413782596588\n",
      "Epoch 106 loss: 23.99354663491249\n",
      "Epoch 107 loss: 23.986831560730934\n",
      "Epoch 108 loss: 23.930822238326073\n",
      "Epoch 109 loss: 23.91823709011078\n",
      "Epoch 110 loss: 23.840788289904594\n",
      "Epoch 111 loss: 23.844674110412598\n",
      "Epoch 112 loss: 23.772672444581985\n",
      "Epoch 113 loss: 23.745949283242226\n",
      "Epoch 114 loss: 23.699809834361076\n",
      "Epoch 115 loss: 23.665123626589775\n",
      "Epoch 116 loss: 23.63810783624649\n",
      "Epoch 117 loss: 23.602516800165176\n",
      "Epoch 118 loss: 23.503905087709427\n",
      "Epoch 119 loss: 23.479356959462166\n",
      "Epoch 120 loss: 23.46529121696949\n",
      "Epoch 121 loss: 23.40962240099907\n",
      "Epoch 122 loss: 23.426023095846176\n",
      "Epoch 123 loss: 23.358712509274483\n",
      "Epoch 124 loss: 23.351307287812233\n",
      "Epoch 125 loss: 23.28599838912487\n",
      "Epoch 126 loss: 23.28937517106533\n",
      "Epoch 127 loss: 23.269238531589508\n",
      "Epoch 128 loss: 23.189790904521942\n",
      "Epoch 129 loss: 23.172683253884315\n",
      "Epoch 130 loss: 23.12588521838188\n",
      "Epoch 131 loss: 23.10323303937912\n",
      "Epoch 132 loss: 23.018190398812294\n",
      "Epoch 133 loss: 22.956696286797523\n",
      "Epoch 134 loss: 22.97827349603176\n",
      "Epoch 135 loss: 22.99578359723091\n",
      "Epoch 136 loss: 22.88579073548317\n",
      "Epoch 137 loss: 22.923927664756775\n",
      "Epoch 138 loss: 22.874839022755623\n",
      "Epoch 139 loss: 22.804735109210014\n",
      "Epoch 140 loss: 22.81828886270523\n",
      "Epoch 141 loss: 22.727889344096184\n",
      "Epoch 142 loss: 22.765219748020172\n",
      "Epoch 143 loss: 22.717304587364197\n",
      "Epoch 144 loss: 22.692780256271362\n",
      "Epoch 145 loss: 22.62297050654888\n",
      "Epoch 146 loss: 22.61234714090824\n",
      "Epoch 147 loss: 22.58377780020237\n",
      "Epoch 148 loss: 22.59005255997181\n",
      "Epoch 149 loss: 22.59275847673416\n",
      "Epoch 150 loss: 22.55847677588463\n",
      "Epoch 151 loss: 22.551780432462692\n",
      "Epoch 152 loss: 22.453914985060692\n",
      "Epoch 153 loss: 22.46682021021843\n",
      "Epoch 154 loss: 22.442452177405357\n",
      "Epoch 155 loss: 22.401595249772072\n",
      "Epoch 156 loss: 22.43949219584465\n",
      "Epoch 157 loss: 22.44157464802265\n",
      "Epoch 158 loss: 22.352184608578682\n",
      "Epoch 159 loss: 22.291836246848106\n",
      "Epoch 160 loss: 22.32352191209793\n",
      "Epoch 161 loss: 22.31359949707985\n",
      "Epoch 162 loss: 22.25121447443962\n",
      "Epoch 163 loss: 22.278620526194572\n",
      "Epoch 164 loss: 22.28613816201687\n",
      "Epoch 165 loss: 22.209380954504013\n",
      "Epoch 166 loss: 22.126356601715088\n",
      "Epoch 167 loss: 22.126221269369125\n",
      "Epoch 168 loss: 22.164711728692055\n",
      "Epoch 169 loss: 22.152953252196312\n",
      "Epoch 170 loss: 22.05800522863865\n",
      "Epoch 171 loss: 22.070937499403954\n",
      "Epoch 172 loss: 22.079697147011757\n",
      "Epoch 173 loss: 21.986788034439087\n",
      "Epoch 174 loss: 22.02655839920044\n",
      "Epoch 175 loss: 22.018261715769768\n",
      "Epoch 176 loss: 21.99007362127304\n",
      "Epoch 177 loss: 21.946342453360558\n",
      "Epoch 178 loss: 22.016709730029106\n",
      "Epoch 179 loss: 21.929333195090294\n",
      "Epoch 180 loss: 21.960266888141632\n",
      "Epoch 181 loss: 21.94080427289009\n",
      "Epoch 182 loss: 21.851277977228165\n",
      "Epoch 183 loss: 21.878327757120132\n",
      "Epoch 184 loss: 21.817372351884842\n",
      "Epoch 185 loss: 21.81916519999504\n",
      "Epoch 186 loss: 21.809431076049805\n",
      "Epoch 187 loss: 21.838994711637497\n",
      "Epoch 188 loss: 21.779741138219833\n",
      "Epoch 189 loss: 21.790440693497658\n",
      "Epoch 190 loss: 21.731090530753136\n",
      "Epoch 191 loss: 21.758848279714584\n",
      "Epoch 192 loss: 21.693777099251747\n",
      "Epoch 193 loss: 21.778521478176117\n",
      "Epoch 194 loss: 21.755839735269547\n",
      "Epoch 195 loss: 21.686873599886894\n",
      "Epoch 196 loss: 21.653516963124275\n",
      "Epoch 197 loss: 21.67652466893196\n",
      "Epoch 198 loss: 21.643861040472984\n",
      "Epoch 199 loss: 21.575789391994476\n",
      "Epoch 200 loss: 21.63817821443081\n",
      "Epoch 201 loss: 21.623767167329788\n",
      "Epoch 202 loss: 21.64480133354664\n",
      "Epoch 203 loss: 21.636126428842545\n",
      "Epoch 204 loss: 21.677653923630714\n",
      "Epoch 205 loss: 21.564644649624825\n",
      "Epoch 206 loss: 21.6282477080822\n",
      "Epoch 207 loss: 21.575476944446564\n",
      "Epoch 208 loss: 21.49623318016529\n",
      "Epoch 209 loss: 21.568047359585762\n",
      "Epoch 210 loss: 21.505171060562134\n",
      "Epoch 211 loss: 21.630767673254013\n",
      "Epoch 212 loss: 21.497998982667923\n",
      "Epoch 213 loss: 21.48473109304905\n",
      "Epoch 214 loss: 21.46427008509636\n",
      "Epoch 215 loss: 21.46842870116234\n",
      "Epoch 216 loss: 21.41653037071228\n",
      "Epoch 217 loss: 21.408898130059242\n",
      "Epoch 218 loss: 21.385463997721672\n",
      "Epoch 219 loss: 21.427181228995323\n",
      "Epoch 220 loss: 21.45640353858471\n",
      "Epoch 221 loss: 21.37955178320408\n",
      "Epoch 222 loss: 21.385718271136284\n",
      "Epoch 223 loss: 21.42271725833416\n",
      "Epoch 224 loss: 21.390745401382446\n",
      "Epoch 225 loss: 21.424386978149414\n",
      "Epoch 226 loss: 21.38765414059162\n",
      "Epoch 227 loss: 21.271905347704887\n",
      "Epoch 228 loss: 21.343587413430214\n",
      "Epoch 229 loss: 21.343708530068398\n",
      "Epoch 230 loss: 21.339391618967056\n",
      "Epoch 231 loss: 21.37657105922699\n",
      "Epoch 232 loss: 21.346845731139183\n",
      "Epoch 233 loss: 21.34598709642887\n",
      "Epoch 234 loss: 21.270855203270912\n",
      "Epoch 235 loss: 21.30417050421238\n",
      "Epoch 236 loss: 21.320316553115845\n",
      "Epoch 237 loss: 21.317817896604538\n",
      "Epoch 238 loss: 21.264396101236343\n",
      "Epoch 239 loss: 21.306670039892197\n",
      "Epoch 240 loss: 21.298122942447662\n",
      "Epoch 241 loss: 21.238449469208717\n",
      "Epoch 242 loss: 21.27262645959854\n",
      "Epoch 243 loss: 21.240622222423553\n",
      "Epoch 244 loss: 21.274792656302452\n",
      "Epoch 245 loss: 21.234750792384148\n",
      "Epoch 246 loss: 21.214377850294113\n",
      "Epoch 247 loss: 21.191670313477516\n",
      "Epoch 248 loss: 21.210837930440903\n",
      "Epoch 249 loss: 21.218240574002266\n",
      "Epoch 250 loss: 21.20321297645569\n",
      "Epoch 251 loss: 21.224368184804916\n",
      "Epoch 252 loss: 21.171538919210434\n",
      "Epoch 253 loss: 21.22063112258911\n",
      "Epoch 254 loss: 21.138037890195847\n",
      "Epoch 255 loss: 21.222895324230194\n",
      "Epoch 256 loss: 21.187590181827545\n"
     ]
    }
   ],
   "source": [
    "epochs = 256\n",
    "for t in range(epochs):\n",
    "    epoch_loss = train_loop(train_dataloader, model, loss_fn, optimizer)\n",
    "    print(f'Epoch {t+1} loss: {epoch_loss}')\n"
   ]
  },
  {
   "cell_type": "markdown",
   "metadata": {},
   "source": [
    "# Test\n",
    "\n",
    "The test dataset does not require a loop or the mini-batches,\n",
    "Simply compute the test predictions in one call to the trained model.\n",
    "\n",
    "The loss on the holdout test set is higher than that reported in training, which is normal and expected.  The difference indicates variation between the datasets or some overfitting on the training data.\n"
   ]
  },
  {
   "cell_type": "code",
   "execution_count": 15,
   "metadata": {},
   "outputs": [
    {
     "name": "stdout",
     "output_type": "stream",
     "text": [
      "Loss (MSE) on test dataset 0.30753740668296814\n"
     ]
    }
   ],
   "source": [
    "model.eval() # Put model in evaluation mode.\n",
    "\n",
    "with torch.no_grad():\n",
    "    test_predictions = model(test_data.x)\n",
    "    test_loss = loss_fn(test_predictions, test_data.y).item()\n",
    "\n",
    "print(f'Loss (MSE) on test dataset {test_loss}')"
   ]
  },
  {
   "cell_type": "markdown",
   "metadata": {},
   "source": [
    "Compute R2 on test dataset for comparison to baseline."
   ]
  },
  {
   "cell_type": "code",
   "execution_count": 16,
   "metadata": {},
   "outputs": [
    {
     "name": "stdout",
     "output_type": "stream",
     "text": [
      "test set r2 score: 0.7813434600830078\n"
     ]
    }
   ],
   "source": [
    "r2_test = r2_score(test_data.y.numpy(), test_predictions.numpy())\n",
    "\n",
    "print(f\"test set r2 score: {r2_test}\")\n"
   ]
  },
  {
   "cell_type": "markdown",
   "metadata": {},
   "source": [
    "# Conclusion\n",
    "\n",
    "This PyTorch neural network reports a good score on our chosen metric (r^2).  It beats our baseline and it beats the neural network from scratch (perceptron).  However, it does not beat the baseline improvement score (0.836).  \n",
    "\n",
    "The purpose of this notebook was to demonstrate building and training a neural network with the PyTorch framework.  It was not necessarily to build the best possible PyTorch model.  It is possible that further experimentation with a neural network approach to this problem could beat our best model.  \n"
   ]
  }
 ],
 "metadata": {
  "kernelspec": {
   "display_name": "Python 3",
   "language": "python",
   "name": "python3"
  },
  "language_info": {
   "codemirror_mode": {
    "name": "ipython",
    "version": 3
   },
   "file_extension": ".py",
   "mimetype": "text/x-python",
   "name": "python",
   "nbconvert_exporter": "python",
   "pygments_lexer": "ipython3",
   "version": "3.12.1"
  }
 },
 "nbformat": 4,
 "nbformat_minor": 2
}
